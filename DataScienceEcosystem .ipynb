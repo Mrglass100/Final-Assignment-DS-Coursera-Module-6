{
 "cells": [
  {
   "cell_type": "markdown",
   "id": "2bb71b8f-948b-4661-9171-571c76383108",
   "metadata": {},
   "source": [
    "# Data Science Tools and Ecosystem"
   ]
  },
  {
   "cell_type": "markdown",
   "id": "8dded428-bcdf-41e5-a69b-90fc71d144b3",
   "metadata": {},
   "source": [
    "## Author\n",
    "   Gabe Johnson"
   ]
  },
  {
   "cell_type": "markdown",
   "id": "2068054e-7e3d-42ce-b76d-d16c6032ac90",
   "metadata": {},
   "source": [
    "# In this Notebook, Data Science Tools and Ecosystem are summerized."
   ]
  },
  {
   "cell_type": "markdown",
   "id": "8e33d84c-8455-40d5-b3e4-2c97ffb1a87f",
   "metadata": {},
   "source": [
    "**Objectives**:\n",
    "* List popular languages for Data Scientist\n",
    "* Identify libraries used by Data Scientist\n",
    "* Utilize arithmetic to evaluate expressions\n"
   ]
  },
  {
   "cell_type": "markdown",
   "id": "9856488c-afe5-4789-af56-f8da19eb14d3",
   "metadata": {},
   "source": [
    "Some of the popular languages that Data Scientist use are: \n",
    "\n",
    "1. PYTHON\n",
    "2.  R\n",
    "3.  3.C/C++\n",
    "4.  4.JULIA"
   ]
  },
  {
   "cell_type": "markdown",
   "id": "abca505e-f33c-440b-8442-9e3a68cbcdd2",
   "metadata": {},
   "source": [
    "Some of the commonly used libraries used by Data Scientist include: \n",
    "\n",
    "1. Matplotlib\n",
    "2. Numpy\n",
    "3. TensorFlow"
   ]
  },
  {
   "cell_type": "markdown",
   "id": "cc66cbc5-8c14-4dcf-94ae-5affc66414db",
   "metadata": {},
   "source": [
    "| Data Science Tools | Pandas | Seaborn | Pytorch |\n",
    "---------------------------------------------------"
   ]
  },
  {
   "cell_type": "markdown",
   "id": "9a904916-0143-4364-be3f-51f03bb895bf",
   "metadata": {},
   "source": [
    "### Below are a few examples of evaluating arithmetic expressions in Python"
   ]
  },
  {
   "cell_type": "code",
   "execution_count": 9,
   "id": "7d42fc5e-6a8c-4c07-ba08-211c2a6617f1",
   "metadata": {},
   "outputs": [
    {
     "data": {
      "text/plain": [
       "17"
      ]
     },
     "execution_count": 9,
     "metadata": {},
     "output_type": "execute_result"
    }
   ],
   "source": [
    "# This is a simple arithmetic expression to multiply then add integers\n",
    "(3*4)+5"
   ]
  },
  {
   "cell_type": "code",
   "execution_count": 11,
   "id": "85104a55-0efb-4541-bab4-acde90d16e4f",
   "metadata": {},
   "outputs": [
    {
     "data": {
      "text/plain": [
       "3.3333333333333335"
      ]
     },
     "execution_count": 11,
     "metadata": {},
     "output_type": "execute_result"
    }
   ],
   "source": [
    "# This will convert 200 min into hours by dividing by 60\n",
    "(200/60)"
   ]
  }
 ],
 "metadata": {
  "kernelspec": {
   "display_name": "Python 3 (ipykernel)",
   "language": "python",
   "name": "python3"
  },
  "language_info": {
   "codemirror_mode": {
    "name": "ipython",
    "version": 3
   },
   "file_extension": ".py",
   "mimetype": "text/x-python",
   "name": "python",
   "nbconvert_exporter": "python",
   "pygments_lexer": "ipython3",
   "version": "3.11.7"
  }
 },
 "nbformat": 4,
 "nbformat_minor": 5
}
